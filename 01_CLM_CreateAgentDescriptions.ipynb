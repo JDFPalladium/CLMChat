{
 "cells": [
  {
   "cell_type": "code",
   "execution_count": null,
   "id": "69d469e0-c3b1-497d-98d9-d6d271a171c2",
   "metadata": {},
   "outputs": [],
   "source": [
    "from llama_index.core import (\n",
    "    VectorStoreIndex,\n",
    "    SummaryIndex,\n",
    "    SimpleKeywordTableIndex,\n",
    "    SimpleDirectoryReader,\n",
    "    ServiceContext,\n",
    "    StorageContext,\n",
    "    load_index_from_storage,\n",
    "    Settings,\n",
    "    Document\n",
    ")\n",
    "\n",
    "from llama_index.core.node_parser import SentenceSplitter\n",
    "from llama_index.core.extractors import TitleExtractor\n",
    "from llama_index.core.ingestion import IngestionPipeline, IngestionCache\n",
    "from llama_index.embeddings.openai import OpenAIEmbedding\n",
    "from llama_index.llms.openai import OpenAI\n",
    "from collections import defaultdict"
   ]
  },
  {
   "cell_type": "code",
   "execution_count": null,
   "id": "ede58c56-c39a-45b4-b11f-95eed8fdc045",
   "metadata": {},
   "outputs": [],
   "source": [
    "import os\n",
    "\n",
    "os.environ[\"OPENAI_API_KEY\"]\n",
    "Settings.llm = OpenAI(temperature=0, model=\"gpt-4o\")\n",
    "# service_context = ServiceContext.from_defaults(llm=llm)"
   ]
  },
  {
   "cell_type": "code",
   "execution_count": null,
   "id": "e83611e1-6df4-41c1-96a7-135acf3b59e3",
   "metadata": {},
   "outputs": [],
   "source": [
    "import pandas as pd\n",
    "\n",
    "df = pd.DataFrame(columns=['folder_name', 'data_folder_path', 'vector_description', 'summary_description', 'top_level_description'])"
   ]
  },
  {
   "cell_type": "code",
   "execution_count": null,
   "id": "2787f9de-8c2f-414c-95c3-bc7099d14934",
   "metadata": {},
   "outputs": [],
   "source": [
    "# Loop through the current directory and populate the DataFrame --> generate summaries, etc.\n",
    "for folder in os.listdir('./Data'):\n",
    "    folder_path = \"./Data/\" + folder # Get the absolute path\n",
    "\n",
    "    this_documents = SimpleDirectoryReader(input_dir=folder_path).load_data()\n",
    "    this_documents_joined = Document(text=\"\\n\\n\".join([doc.text for doc in this_documents]))\n",
    "    this_index = VectorStoreIndex.from_documents([this_documents_joined])\n",
    "\n",
    "    this_query_engine = this_index.as_query_engine()\n",
    "\n",
    "    vector_description = this_query_engine.query(\"What types of specific questions would the documents be useful for answering? Tell me in two sentences. The users are generally interested in Community-Led Monitoring. This information will help guide a chatbot to the correct information, so be sure to capture the definining topics in these documents. Be sure to emphasize the relevant geographies, document types, program areas, etc.\").response\n",
    "    vector_description = \"Useful for specific CLM questions related to \" + folder + \". \" + vector_description\n",
    "\n",
    "    summary_description  = this_query_engine.query(\"What types of summary questions would the documents be useful for answering? Tell me in two sentences. The users are generally interested in Community-Led Monitoring. This information will help guide a chatbot to the correct information, so be sure to capture the definining topics in these documents. Be sure to emphasize the relevant geographies, document types, program areas, etc.\").response\n",
    "    summary_description = \"Useful for CLM questions that require a wholistic summary related to \" + folder + \". \" + summary_description\n",
    "\n",
    "    tl_string = \"What types of questions would the documents be useful for answering? Tell me in two sentences. The users are generally interested in Community-Led Monitoring. This information will help guide a chatbot to the correct information, so be sure to capture the definining topics in these documents. Be sure to emphasize the relevant geographies, document types, program areas, etc.\"\n",
    "    top_level_description  = this_query_engine.query(tl_string).response\n",
    "    top_level_description = top_level_description + \" If using this tool, mention that the response comes from \" + folder + \" guidance.\"\n",
    "\n",
    "\n",
    "\n",
    "    new_row = {\n",
    "        'folder_name': folder,\n",
    "        'data_folder_path': folder_path,\n",
    "        'vector_description': vector_description,\n",
    "        'summary_description': summary_description, \n",
    "        'top_level_description': top_level_description\n",
    "    }\n",
    "\n",
    "    df.loc[len(df)] = new_row\n",
    "\n",
    "\n",
    "print(df)"
   ]
  },
  {
   "cell_type": "code",
   "execution_count": null,
   "id": "d4d5ba92-0cda-4bf8-83c2-b476403ab110",
   "metadata": {},
   "outputs": [],
   "source": [
    "df.to_excel(\"CLM_Agents_AutoGen.xlsx\", index = False)"
   ]
  }
 ],
 "metadata": {
  "kernelspec": {
   "display_name": "Python 3 (ipykernel)",
   "language": "python",
   "name": "python3"
  },
  "language_info": {
   "codemirror_mode": {
    "name": "ipython",
    "version": 3
   },
   "file_extension": ".py",
   "mimetype": "text/x-python",
   "name": "python",
   "nbconvert_exporter": "python",
   "pygments_lexer": "ipython3",
   "version": "3.12.3"
  }
 },
 "nbformat": 4,
 "nbformat_minor": 5
}
