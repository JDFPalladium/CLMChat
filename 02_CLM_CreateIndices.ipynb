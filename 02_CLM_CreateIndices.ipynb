{
 "cells": [
  {
   "cell_type": "code",
   "execution_count": null,
   "id": "b8e61b25-2681-4ec4-8049-3b9afcb30583",
   "metadata": {},
   "outputs": [],
   "source": [
    "from llama_index.core import (\n",
    "    VectorStoreIndex,\n",
    "    SummaryIndex,\n",
    "    SimpleKeywordTableIndex,\n",
    "    SimpleDirectoryReader,\n",
    "    ServiceContext,\n",
    "    StorageContext,\n",
    "    load_index_from_storage,\n",
    "    Settings,\n",
    "    Document\n",
    ")\n",
    "from llama_index.core.node_parser import SentenceSplitter\n",
    "from llama_index.core.extractors import TitleExtractor\n",
    "from llama_index.core.ingestion import IngestionPipeline, IngestionCache\n",
    "from llama_index.embeddings.openai import OpenAIEmbedding\n",
    "from llama_index.llms.openai import OpenAI\n",
    "from collections import defaultdict\n",
    "import pandas as pd"
   ]
  },
  {
   "cell_type": "code",
   "execution_count": null,
   "id": "bff70956-82ac-49cf-a041-df27861e4dfd",
   "metadata": {},
   "outputs": [],
   "source": [
    "import os\n",
    "\n",
    "os.environ[\"OPENAI_API_KEY\"] = \"sk-proj-****\"\n",
    "Settings.llm = OpenAI(temperature=0, model=\"gpt-4o\")"
   ]
  },
  {
   "cell_type": "code",
   "execution_count": null,
   "id": "aa6af6a4-7833-4f79-8ee6-583e5026a600",
   "metadata": {},
   "outputs": [],
   "source": [
    "# Load folder names and paths from the Excel file\n",
    "excel_file_path = 'CLM_Agents_AutoGen.xlsx'\n",
    "df = pd.read_excel(excel_file_path)"
   ]
  },
  {
   "cell_type": "code",
   "execution_count": null,
   "id": "152d43e9-b8a6-46a4-ac82-daa52df6a5a6",
   "metadata": {},
   "outputs": [],
   "source": [
    "# Iterate over each row in the DataFrame\n",
    "for index, row in df.iterrows():\n",
    "    folder_name = row['folder_name']\n",
    "    data_folder_path = row['data_folder_path']\n",
    "    index_storage_path = \"./storage/\" + folder_name #row['index_storage_path']\n",
    "\n",
    "    # List files in the specified folder\n",
    "    this_files = os.listdir(data_folder_path)\n",
    "    this_input_files = [os.path.join(data_folder_path, f) for f in this_files]\n",
    "\n",
    "    # Load documents from the specified folder\n",
    "    this_documents = SimpleDirectoryReader(input_files=this_input_files).load_data()\n",
    "\n",
    "    # Group documents by file_name\n",
    "    grouped_documents = defaultdict(list)\n",
    "    for doc in this_documents:\n",
    "        file_name = doc.metadata.get('file_name')  # Assuming file_name is in the metadata\n",
    "        grouped_documents[file_name].append(doc)\n",
    "\n",
    "    # Create a new list to hold the combined Document objects\n",
    "    combined_documents = []\n",
    "\n",
    "    for file_name, docs in grouped_documents.items():\n",
    "        # Join the text of all documents with the same file_name\n",
    "        combined_text = \"\\n\\n\".join(doc.text for doc in docs)\n",
    "\n",
    "        # Create a new Document with the combined text\n",
    "        combined_doc = Document(text=combined_text, metadata={\"file_name\": file_name})\n",
    "        combined_documents.append(combined_doc)\n",
    "\n",
    "    # Create vector store index\n",
    "    vector_index = VectorStoreIndex.from_documents(combined_documents)\n",
    "\n",
    "    # Persist vector index\n",
    "    vector_index.storage_context.persist(persist_dir=index_storage_path + \"_vector\")\n",
    "\n",
    "    # Create summary index\n",
    "    summary_index = SummaryIndex.from_documents(combined_documents)\n",
    "\n",
    "    # Persist summary index (change storage path if needed)\n",
    "    summary_index.storage_context.persist(persist_dir=index_storage_path + \"_summary\")\n",
    "\n",
    "    print(f\"Processed folder: {folder_name}\")\n",
    "\n",
    "print(\"Indexing completed for all folders.\")"
   ]
  }
 ],
 "metadata": {
  "kernelspec": {
   "display_name": "Python 3 (ipykernel)",
   "language": "python",
   "name": "python3"
  },
  "language_info": {
   "codemirror_mode": {
    "name": "ipython",
    "version": 3
   },
   "file_extension": ".py",
   "mimetype": "text/x-python",
   "name": "python",
   "nbconvert_exporter": "python",
   "pygments_lexer": "ipython3",
   "version": "3.12.3"
  }
 },
 "nbformat": 4,
 "nbformat_minor": 5
}
